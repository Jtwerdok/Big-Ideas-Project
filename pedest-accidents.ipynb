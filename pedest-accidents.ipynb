{
 "cells": [
  {
   "cell_type": "code",
   "execution_count": 2,
   "metadata": {},
   "outputs": [
    {
     "name": "stdout",
     "output_type": "stream",
     "text": [
      "Average of 209 arrests per neighborhood.\n"
     ]
    },
    {
     "data": {
      "image/png": "[encoded data removed]",
      "text/plain": [
       "<Figure size 432x288 with 1 Axes>"
      ]
     },
     "metadata": {
      "needs_background": "light"
     },
     "output_type": "display_data"
    }
   ],
   "source": [
    "# import libraries\n",
    "import pandas as pd\n",
    "import numpy as np\n",
    "import matplotlib.pyplot as plt\n",
    "import matplotlib.patches as mpatches\n",
    "%matplotlib inline\n",
    "\n",
    "# turn arrests.csv file to dataframe\n",
    "arrests = pd.read_csv(\"arrest.csv\")\n",
    "\n",
    "# all masks that involve pedestrian accidents\n",
    "robbery_mask = arrests['OFFENSES'].str.contains('robbery', na = False, case = False) \n",
    "disorderly_mask = arrests['OFFENSES'].str.contains('Disorderly conduct', na = False, case = False) \n",
    "aggravate_mask = arrests['OFFENSES'].str.contains('Aggravated assault', na = False, case = False) \n",
    "endanger_mask = arrests['OFFENSES'].str.contains('Recklessy Endangering Another Person', na = False, case = False)\n",
    "assault_mask = arrests['OFFENSES'].str.contains('Simple assault', na = False, case = False)\n",
    "\n",
    "# data set with arrests involving pedestrians\n",
    "pedestrian_accidents = arrests[robbery_mask | disorderly_mask | aggravate_mask | endanger_mask | assault_mask]\n",
    "\n",
    "# make a line plot with neighborhoods and all arrests\n",
    "rest = pedestrian_accidents['INCIDENTNEIGHBORHOOD'].value_counts()\n",
    "arrests_plot = rest.plot(kind=\"line\")\n",
    "arrests_plot = plt.axhline(209, color='red')\n",
    "\n",
    "# average arrests per neighborhood\n",
    "count = 0\n",
    "all = 0\n",
    "for x in rest:\n",
    "    count += 1\n",
    "    all += x\n",
    "print(\"Average of\", int(all / count), \"arrests per neighborhood.\")\n",
    "\n",
    "# set legend, x-axis, y-axis\n",
    "patch = mpatches.Patch(color='red', label='Average Arrests Per Neighborhood (209)')\n",
    "arrests_plot = plt.legend(handles=[patch])\n",
    "arrests_plot = plt.xticks(labels=[], ticks=[])\n",
    "arrests_plot = plt.xlabel(\"Neighborhoods\")\n",
    "arrests_plot = plt.ylabel(\"Arrests Per Neigborhood\")"
   ]
  },
  {
   "cell_type": "code",
   "execution_count": 1,
   "metadata": {},
   "outputs": [
    {
     "ename": "NameError",
     "evalue": "name 'pedestrian_accidents' is not defined",
     "output_type": "error",
     "traceback": [
      "\u001b[0;31m---------------------------------------------------------------------------\u001b[0m",
      "\u001b[0;31mNameError\u001b[0m                                 Traceback (most recent call last)",
      "\u001b[0;32m<ipython-input-1-707708d7050f>\u001b[0m in \u001b[0;36m<module>\u001b[0;34m\u001b[0m\n\u001b[1;32m      2\u001b[0m \u001b[0mneighborhoods\u001b[0m \u001b[0;34m=\u001b[0m \u001b[0;34m[\u001b[0m\u001b[0;34m]\u001b[0m\u001b[0;34m\u001b[0m\u001b[0;34m\u001b[0m\u001b[0m\n\u001b[1;32m      3\u001b[0m \u001b[0mmed_ages\u001b[0m \u001b[0;34m=\u001b[0m \u001b[0;34m[\u001b[0m\u001b[0;34m]\u001b[0m\u001b[0;34m\u001b[0m\u001b[0;34m\u001b[0m\u001b[0m\n\u001b[0;32m----> 4\u001b[0;31m \u001b[0;32mfor\u001b[0m \u001b[0mx\u001b[0m \u001b[0;32min\u001b[0m \u001b[0mpedestrian_accidents\u001b[0m\u001b[0;34m[\u001b[0m\u001b[0;34m'INCIDENTNEIGHBORHOOD'\u001b[0m\u001b[0;34m]\u001b[0m\u001b[0;34m.\u001b[0m\u001b[0munique\u001b[0m\u001b[0;34m(\u001b[0m\u001b[0;34m)\u001b[0m\u001b[0;34m:\u001b[0m\u001b[0;34m\u001b[0m\u001b[0;34m\u001b[0m\u001b[0m\n\u001b[0m\u001b[1;32m      5\u001b[0m     \u001b[0mmask\u001b[0m \u001b[0;34m=\u001b[0m \u001b[0mpedestrian_accidents\u001b[0m\u001b[0;34m[\u001b[0m\u001b[0;34m'INCIDENTNEIGHBORHOOD'\u001b[0m\u001b[0;34m]\u001b[0m \u001b[0;34m==\u001b[0m \u001b[0mx\u001b[0m\u001b[0;34m\u001b[0m\u001b[0;34m\u001b[0m\u001b[0m\n\u001b[1;32m      6\u001b[0m     \u001b[0mneighborhood_sort\u001b[0m \u001b[0;34m=\u001b[0m \u001b[0mpedestrian_accidents\u001b[0m\u001b[0;34m[\u001b[0m\u001b[0mmask\u001b[0m\u001b[0;34m]\u001b[0m\u001b[0;34m\u001b[0m\u001b[0;34m\u001b[0m\u001b[0m\n",
      "\u001b[0;31mNameError\u001b[0m: name 'pedestrian_accidents' is not defined"
     ]
    }
   ],
   "source": [
    "# sort through neighborhoods and find medians of each\n",
    "neighborhoods = []\n",
    "med_ages = []\n",
    "for x in pedestrian_accidents['INCIDENTNEIGHBORHOOD'].unique():\n",
    "    mask = pedestrian_accidents['INCIDENTNEIGHBORHOOD'] == x\n",
    "    neighborhood_sort = pedestrian_accidents[mask]\n",
    "    age = neighborhood_sort[\"AGE\"].median()\n",
    "    neighborhoods.append(x)\n",
    "    med_ages.append(age)\n",
    "    \n",
    "# create new dataframe with neighborhoods and median age as columns\n",
    "data1 = {\n",
    "  \"neighborhood\": neighborhoods,\n",
    "  \"age\": med_ages\n",
    "}\n",
    "median_age_df = pd.DataFrame(data1)\n",
    "in_order_median = median_age_df.sort_values(by=['age'], ascending = False)\n",
    "print(in_order_median)\n",
    "median_age_df.plot(kind = \"bar\")\n",
    "\n",
    "# set legend, x-axis, y-axis\n",
    "patch = mpatches.Patch(color='blue', label='Neighborhood')\n",
    "median_plot = plt.legend(handles=[patch])\n",
    "median_plot = plt.xticks(labels=[], ticks=[])\n",
    "median_plot = plt.xlabel(\"Neighborhoods\")\n",
    "median_plot = plt.ylabel(\"Median Age\")"
   ]
  },
  {
   "cell_type": "code",
   "execution_count": null,
   "metadata": {},
   "outputs": [],
   "source": []
  }
 ],
 "metadata": {
  "kernelspec": {
   "display_name": "Python 3",
   "language": "python",
   "name": "python3"
  },
  "language_info": {
   "codemirror_mode": {
    "name": "ipython",
    "version": 3
   },
   "file_extension": ".py",
   "mimetype": "text/x-python",
   "name": "python",
   "nbconvert_exporter": "python",
   "pygments_lexer": "ipython3",
   "version": "3.8.3"
  }
 },
 "nbformat": 4,
 "nbformat_minor": 4
}
