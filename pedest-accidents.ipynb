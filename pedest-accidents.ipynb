{
 "cells": [
  {
   "cell_type": "markdown",
   "metadata": {},
   "source": [
    "Introduction:\n",
    "The basis of the project stands on finding the best neighborhood in Pittsburgh in regards to walkability. We split up the definition of walkability into a couple parts: pedestrian safety, sidewalk to street ratio, crosswalk and intersection count, and walk score. We felt that these were the most prominent parts of walking in a neighborhood."
   ]
  },
  {
   "cell_type": "markdown",
   "metadata": {},
   "source": [
    "The metric: With my metric, pedestrian safety, I used an arrest dataset. Within this dataset, I am able to filter out arrests involving regular citizens and pedestrians. These people may be involved in crimes resulting from robbery, simple assault, aggravated assault, and endangerment."
   ]
  },
  {
   "cell_type": "code",
   "execution_count": 1,
   "metadata": {},
   "outputs": [
    {
     "name": "stdout",
     "output_type": "stream",
     "text": [
      "South Side Flats             1321\n",
      "Central Business District    1231\n",
      "Carrick                       887\n",
      "Marshall-Shadeland            632\n",
      "Homewood North                572\n",
      "                             ... \n",
      "Mt. Oliver Boro                 6\n",
      "Outside State                   6\n",
      "Central Northside               2\n",
      "Outside County                  2\n",
      "Mt. Oliver Neighborhood         1\n",
      "Name: INCIDENTNEIGHBORHOOD, Length: 97, dtype: int64\n",
      "Average of 209 arrests per neighborhood.\n"
     ]
    },
    {
     "data": {
      "image/png": "[encoded data removed]",
      "text/plain": [
       "<Figure size 432x288 with 1 Axes>"
      ]
     },
     "metadata": {
      "needs_background": "light"
     },
     "output_type": "display_data"
    }
   ],
   "source": [
    "# import libraries\n",
    "import pandas as pd\n",
    "import numpy as np\n",
    "import matplotlib.pyplot as plt\n",
    "import matplotlib.patches as mpatches\n",
    "%matplotlib inline\n",
    "\n",
    "# turn arrests.csv file to dataframe\n",
    "arrests = pd.read_csv(\"arrest.csv\")\n",
    "\n",
    "# all masks that involve pedestrian accidents\n",
    "robbery_mask = arrests['OFFENSES'].str.contains('robbery', na = False, case = False) \n",
    "disorderly_mask = arrests['OFFENSES'].str.contains('Disorderly conduct', na = False, case = False) \n",
    "aggravate_mask = arrests['OFFENSES'].str.contains('Aggravated assault', na = False, case = False) \n",
    "endanger_mask = arrests['OFFENSES'].str.contains('Recklessy Endangering Another Person', na = False, case = False)\n",
    "assault_mask = arrests['OFFENSES'].str.contains('Simple assault', na = False, case = False)\n",
    "\n",
    "# data set with arrests involving pedestrians\n",
    "pedestrian_accidents = arrests[robbery_mask | disorderly_mask | aggravate_mask | endanger_mask | assault_mask]\n",
    "\n",
    "# make a line plot with neighborhoods and all arrests\n",
    "rest = pedestrian_accidents['INCIDENTNEIGHBORHOOD'].value_counts()\n",
    "arrests_plot = rest.plot(kind=\"line\")\n",
    "arrests_plot = plt.axhline(209, color='red')\n",
    "print(rest)\n",
    "\n",
    "# average arrests per neighborhood\n",
    "count = 0\n",
    "all = 0\n",
    "for x in rest:\n",
    "    count += 1\n",
    "    all += x\n",
    "print(\"Average of\", int(all / count), \"arrests per neighborhood.\")\n",
    "\n",
    "# set legend, x-axis, y-axis\n",
    "patch = mpatches.Patch(color='red', label='Average Arrests Per Neighborhood (209)')\n",
    "arrests_plot = plt.legend(handles=[patch])\n",
    "arrests_plot = plt.xticks(labels=[], ticks=[])\n",
    "arrests_plot = plt.xlabel(\"Neighborhoods\")\n",
    "arrests_plot = plt.ylabel(\"Arrests Per Neigborhood\")"
   ]
  },
  {
   "cell_type": "code",
   "execution_count": 3,
   "metadata": {},
   "outputs": [
    {
     "name": "stdout",
     "output_type": "stream",
     "text": [
      "               neighborhood   age\n",
      "50        Central Northside  43.0\n",
      "3             Regent Square  40.0\n",
      "80            New Homestead  38.5\n",
      "34               Banksville  37.0\n",
      "51            Spring Garden  36.0\n",
      "..                      ...   ...\n",
      "87             Point Breeze  22.0\n",
      "65              Perry North  20.0\n",
      "76             Mount Oliver  13.0\n",
      "64  Mt. Oliver Neighborhood  13.0\n",
      "39                      NaN   NaN\n",
      "\n",
      "[98 rows x 2 columns]\n"
     ]
    },
    {
     "data": {
      "image/png": "[encoded data removed]",
      "text/plain": [
       "<Figure size 432x288 with 1 Axes>"
      ]
     },
     "metadata": {
      "needs_background": "light"
     },
     "output_type": "display_data"
    }
   ],
   "source": [
    "# sort through neighborhoods and find medians of each\n",
    "neighborhoods = []\n",
    "med_ages = []\n",
    "for x in pedestrian_accidents['INCIDENTNEIGHBORHOOD'].unique():\n",
    "    mask = pedestrian_accidents['INCIDENTNEIGHBORHOOD'] == x\n",
    "    neighborhood_sort = pedestrian_accidents[mask]\n",
    "    age = neighborhood_sort[\"AGE\"].median()\n",
    "    neighborhoods.append(x)\n",
    "    med_ages.append(age)\n",
    "    \n",
    "# create new dataframe with neighborhoods and median age as columns\n",
    "data1 = {\n",
    "  \"neighborhood\": neighborhoods,\n",
    "  \"age\": med_ages\n",
    "}\n",
    "median_age_df = pd.DataFrame(data1)\n",
    "in_order_median = median_age_df.sort_values(by=['age'], ascending = False)\n",
    "print(in_order_median)\n",
    "median_age_df.plot(kind = \"bar\")\n",
    "\n",
    "# set legend, x-axis, y-axis\n",
    "patch = mpatches.Patch(color='blue', label='Neighborhood')\n",
    "median_plot = plt.legend(handles=[patch])\n",
    "median_plot = plt.xticks(labels=[], ticks=[])\n",
    "median_plot = plt.xlabel(\"Neighborhoods\")\n",
    "median_plot = plt.ylabel(\"Median Age\")"
   ]
  },
  {
   "cell_type": "markdown",
   "metadata": {},
   "source": [
    "The Best Neighborhood: \n",
    "Based straight off of arrests per neighborhood, we see that small neighborhoods like Mt. Oliver, Outside State, and Central Northside have the least amount of arrests since 2016 as they all have under 6 arrests. In this same analysis we see larger neighborhoods like Squirrel Hill North and Upper Lawrenceville ranking in the top 30% safest neighborhoods in Pittsburgh. \n",
    "Similar to this, we look at median age at time of arrest in each neighborhood, and see that Central Northside, Regent Square, and New Homestead have a high median age. This may imply that there will be less accidents and arrests involving citizens in the future.\n",
    "Final Ranking: \n",
    "1. Central Northside\n",
    "2. Squirrel Hill North\n",
    "3. Upper Lawrenceville\n",
    "4. Regent Square\n",
    "5. New Homestead"
   ]
  },
  {
   "cell_type": "markdown",
   "metadata": {},
   "source": [
    "Conclusion: Based off pure analytics, the neighborhoods above are the most safe for pedestrains. Based off my opinion, and personal experience, I would have expected and liked to see Shadyside at the top of the list alongside other parts of Squirrel Hill. This contrast between my personal ranking and purely data driven ranking show that there is usually a bias and aspect of human emotion that should be separated from data and analytics."
   ]
  }
 ],
 "metadata": {
  "kernelspec": {
   "display_name": "Python 3",
   "language": "python",
   "name": "python3"
  },
  "language_info": {
   "codemirror_mode": {
    "name": "ipython",
    "version": 3
   },
   "file_extension": ".py",
   "mimetype": "text/x-python",
   "name": "python",
   "nbconvert_exporter": "python",
   "pygments_lexer": "ipython3",
   "version": "3.8.3"
  }
 },
 "nbformat": 4,
 "nbformat_minor": 4
}
