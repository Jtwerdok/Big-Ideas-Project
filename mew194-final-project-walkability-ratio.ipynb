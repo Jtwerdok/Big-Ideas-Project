{
 "cells": [
  {
   "cell_type": "markdown",
   "metadata": {},
   "source": [
    "### MEW194 Submetric Data Analysis"
   ]
  },
  {
   "cell_type": "markdown",
   "metadata": {},
   "source": [
    "### Imports"
   ]
  },
  {
   "cell_type": "code",
   "execution_count": 42,
   "metadata": {},
   "outputs": [],
   "source": [
    "import pandas as pd\n",
    "import matplotlib.pyplot as plt\n",
    "\n",
    "%matplotlib inline"
   ]
  },
  {
   "cell_type": "markdown",
   "metadata": {},
   "source": [
    "### Data Transformations"
   ]
  },
  {
   "cell_type": "code",
   "execution_count": 44,
   "metadata": {},
   "outputs": [
    {
     "data": {
      "text/html": [
       "<div>\n",
       "<style scoped>\n",
       "    .dataframe tbody tr th:only-of-type {\n",
       "        vertical-align: middle;\n",
       "    }\n",
       "\n",
       "    .dataframe tbody tr th {\n",
       "        vertical-align: top;\n",
       "    }\n",
       "\n",
       "    .dataframe thead th {\n",
       "        text-align: right;\n",
       "    }\n",
       "</style>\n",
       "<table border=\"1\" class=\"dataframe\">\n",
       "  <thead>\n",
       "    <tr style=\"text-align: right;\">\n",
       "      <th></th>\n",
       "      <th>Neighborhoods</th>\n",
       "      <th>Crosswalk Counts</th>\n",
       "    </tr>\n",
       "  </thead>\n",
       "  <tbody>\n",
       "    <tr>\n",
       "      <th>0</th>\n",
       "      <td>Central Business District</td>\n",
       "      <td>396</td>\n",
       "    </tr>\n",
       "    <tr>\n",
       "      <th>1</th>\n",
       "      <td>South Side Flats</td>\n",
       "      <td>260</td>\n",
       "    </tr>\n",
       "    <tr>\n",
       "      <th>2</th>\n",
       "      <td>Squirrel Hill South</td>\n",
       "      <td>238</td>\n",
       "    </tr>\n",
       "    <tr>\n",
       "      <th>3</th>\n",
       "      <td>Bloomfield</td>\n",
       "      <td>192</td>\n",
       "    </tr>\n",
       "    <tr>\n",
       "      <th>4</th>\n",
       "      <td>Shadyside</td>\n",
       "      <td>189</td>\n",
       "    </tr>\n",
       "    <tr>\n",
       "      <th>...</th>\n",
       "      <td>...</td>\n",
       "      <td>...</td>\n",
       "    </tr>\n",
       "    <tr>\n",
       "      <th>82</th>\n",
       "      <td>Summer Hill</td>\n",
       "      <td>3</td>\n",
       "    </tr>\n",
       "    <tr>\n",
       "      <th>83</th>\n",
       "      <td>Fairywood</td>\n",
       "      <td>3</td>\n",
       "    </tr>\n",
       "    <tr>\n",
       "      <th>84</th>\n",
       "      <td>Chartiers City</td>\n",
       "      <td>1</td>\n",
       "    </tr>\n",
       "    <tr>\n",
       "      <th>85</th>\n",
       "      <td>New Homestead</td>\n",
       "      <td>1</td>\n",
       "    </tr>\n",
       "    <tr>\n",
       "      <th>86</th>\n",
       "      <td>St. Clair</td>\n",
       "      <td>1</td>\n",
       "    </tr>\n",
       "  </tbody>\n",
       "</table>\n",
       "<p>87 rows × 2 columns</p>\n",
       "</div>"
      ],
      "text/plain": [
       "                Neighborhoods  Crosswalk Counts\n",
       "0   Central Business District               396\n",
       "1            South Side Flats               260\n",
       "2         Squirrel Hill South               238\n",
       "3                  Bloomfield               192\n",
       "4                   Shadyside               189\n",
       "..                        ...               ...\n",
       "82                Summer Hill                 3\n",
       "83                  Fairywood                 3\n",
       "84             Chartiers City                 1\n",
       "85              New Homestead                 1\n",
       "86                  St. Clair                 1\n",
       "\n",
       "[87 rows x 2 columns]"
      ]
     },
     "execution_count": 44,
     "metadata": {},
     "output_type": "execute_result"
    }
   ],
   "source": [
    "#https://data.wprdc.org/dataset/sidewalk-to-street-walkability-ratio\n",
    "crosswalks = pd.read_csv(\"crosswalkdata.csv\")\n",
    "\n",
    "#drop NaNs, duplicates\n",
    "crosswalks = crosswalks.dropna()\n",
    "crosswalks = crosswalks.drop_duplicates()\n",
    "crosswalks = crosswalks.drop(crosswalks[crosswalks[\"type\"].str.contains(\"crosswalk\")].index)\n",
    "\n",
    "#create dataframe out of neighborhood crosswalks counts\n",
    "crosswalks = crosswalks['neighborhood'].value_counts().rename_axis('Neighborhoods').reset_index(name='Crosswalk Counts')\n",
    "crosswalks\n",
    "\n",
    "\n"
   ]
  },
  {
   "cell_type": "markdown",
   "metadata": {},
   "source": [
    "### Total Crosswalks in Dataset"
   ]
  },
  {
   "cell_type": "code",
   "execution_count": 54,
   "metadata": {},
   "outputs": [
    {
     "name": "stdout",
     "output_type": "stream",
     "text": [
      "4570 Crosswalks\n"
     ]
    }
   ],
   "source": [
    "print(crosswalks['Crosswalk Counts'].sum().astype(str) + \" Crosswalks\")"
   ]
  },
  {
   "cell_type": "markdown",
   "metadata": {},
   "source": [
    "### Matplotlib Bar Graph"
   ]
  },
  {
   "cell_type": "code",
   "execution_count": 41,
   "metadata": {},
   "outputs": [
    {
     "data": {
      "image/png": "[encoded data removed]",
      "text/plain": [
       "<Figure size 1440x360 with 1 Axes>"
      ]
     },
     "metadata": {
      "needs_background": "light"
     },
     "output_type": "display_data"
    }
   ],
   "source": [
    "#getting top 10 crosswalk counts\n",
    "crosswalks = crosswalks.head(10)\n",
    "crosswalks = crosswalks.sort_values(by=['Crosswalk Counts'], ascending=True)\n",
    "\n",
    "#converting ratio column to float\n",
    "counts = list(crosswalks['Crosswalk Counts'])\n",
    "neighborhoods = list(crosswalks['Neighborhoods'])\n",
    "  \n",
    "fig = plt.figure(figsize = (20, 5))\n",
    " \n",
    "plt.bar(neighborhoods, counts, color ='maroon',\n",
    "        width = 0.4)\n",
    " \n",
    "plt.xlabel(\"Neighborhoods\")\n",
    "plt.ylabel(\"Crosswalk Counts\")\n",
    "plt.title(\"Top 10 Neighborhoods With Most Crosswalks\")\n",
    "plt.autoscale(enable=True, axis='y')\n",
    "\n",
    "for i in range(len(neighborhoods)):\n",
    "        plt.text(i,counts[i],counts[i])\n",
    "\n",
    "plt.show()"
   ]
  },
  {
   "cell_type": "markdown",
   "metadata": {},
   "source": [
    "### Analysis"
   ]
  },
  {
   "cell_type": "markdown",
   "metadata": {},
   "source": [
    "According to the data gathered from: https://data.wprdc.org/dataset/city-of-pittsburgh-markings, the Central Business District has the by far most crosswalks at 396.  South Side Falts and Squirrel Hill South also have a significant amount.  According to this dataset, there are 4570 crosswalks in Pittsburgh."
   ]
  }
 ],
 "metadata": {
  "kernelspec": {
   "display_name": "Python 3",
   "language": "python",
   "name": "python3"
  },
  "language_info": {
   "codemirror_mode": {
    "name": "ipython",
    "version": 3
   },
   "file_extension": ".py",
   "mimetype": "text/x-python",
   "name": "python",
   "nbconvert_exporter": "python",
   "pygments_lexer": "ipython3",
   "version": "3.8.3"
  }
 },
 "nbformat": 4,
 "nbformat_minor": 4
}
