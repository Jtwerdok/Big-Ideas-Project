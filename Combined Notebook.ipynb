{
 "cells": [
  {
   "cell_type": "markdown",
   "metadata": {},
   "source": [
    "# Combined Notebook"
   ]
  },
  {
   "cell_type": "markdown",
   "metadata": {},
   "source": [
    "### Individual Conclusions"
   ]
  },
  {
   "cell_type": "markdown",
   "metadata": {},
   "source": [
    "#### Michael Wolfe MEW194: Intersection Markings and Availability Dataset and Submetric"
   ]
  },
  {
   "cell_type": "markdown",
   "metadata": {},
   "source": [
    "In addition to our other submetrics, we decided that crosswalk availability throughout neighborhoods was a pertinent walkability submetric.  From our point of view, additional crosswalks will likely create an environment that is more walkable for citizens.  To quantify this for the City of Pittsburgh Intersection Markings dataset, I dropped all rows that did not contain the word crosswalk in the 'type'.  I ignored the crosswalk type and created a new dataframe based on the frequency that each neighborhood appeared in the dataset, as the dataset attempted to capture each instance of a crosswalk in each neighborhood.  I then plotted the top 10 neighborhoods with the most crosswalks onto a bar graph, where it was revealed that the Central Business District contained the most crosswalks.  The Central Business District contained 396 crosswalks in total."
   ]
  }
 ],
 "metadata": {
  "kernelspec": {
   "display_name": "Python 3",
   "language": "python",
   "name": "python3"
  },
  "language_info": {
   "codemirror_mode": {
    "name": "ipython",
    "version": 3
   },
   "file_extension": ".py",
   "mimetype": "text/x-python",
   "name": "python",
   "nbconvert_exporter": "python",
   "pygments_lexer": "ipython3",
   "version": "3.8.3"
  }
 },
 "nbformat": 4,
 "nbformat_minor": 4
}
