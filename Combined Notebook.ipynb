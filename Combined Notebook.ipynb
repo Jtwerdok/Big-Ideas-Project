{
 "cells": [
  {
   "cell_type": "markdown",
   "metadata": {},
   "source": [
    "# Combined Notebook"
   ]
  },
  {
   "cell_type": "markdown",
   "metadata": {},
   "source": [
    "### Introduction"
   ]
  },
  {
   "cell_type": "markdown",
   "metadata": {},
   "source": [
    "Everyone loves a good stroll, including the members of the Walking Group.  Therefore, our group decided to equate \"bestness\" to \"walkability\" and explore datasets that capture the walkability of neighborhoods around Pittsburgh. Based on our experience walking around Pittsburgh, we agreed that not all neighborhoods are created equal when it comes to their walkability, and that this would probably be reflected in the datasets we chose to explore, making it a worthwhile and interesting lens through which to view our city."
   ]
  },
  {
   "cell_type": "markdown",
   "metadata": {},
   "source": [
    "### The Metric"
   ]
  },
  {
   "cell_type": "markdown",
   "metadata": {},
   "source": [
    "Upon exploration of WPRDC, we found that there were several valid datasets through which to explore the walkability of Pittburgh's neighborhoods.  We considered several valid submetrics while forming our approach to determining the best/most walkable neighborhood in the city: walking safety, number of speed bumps in a neighborhood, the walk score of a neighborhood, and crosswalk availability per neighborhood."
   ]
  },
  {
   "cell_type": "markdown",
   "metadata": {},
   "source": [
    "### The Best Neighborhood"
   ]
  },
  {
   "cell_type": "markdown",
   "metadata": {},
   "source": [
    "![Arrest Line](Graphs/ArrestsLineChart.png)\n",
    "![Arrest Bar](Graphs/ArrestsBarGraph.png)"
   ]
  },
  {
   "cell_type": "markdown",
   "metadata": {},
   "source": [
    "    The graph on the left depicts average amount of arrests relative to pedestrian-related crimes, such as robbery or assault.  The graph on the right depicts median age of arrests per neighbor.  We believe that the lower the age of arrest, the more likely that neighborhood is going to be dangerous in the future.  Based on an analysis of the data, we found the top 5 safest neighborhoods to walk, from safest to least safe, as follows: Central Northside, Squirrel Hill North, Upper, Lawrenceville, Regent Square, and New Homestead."
   ]
  },
  {
   "cell_type": "markdown",
   "metadata": {},
   "source": [
    "![Crosswalk Bar](Graphs/CrosswalkBarGraph.png)"
   ]
  },
  {
   "cell_type": "markdown",
   "metadata": {},
   "source": [
    "Based on the data above, the Central Business District has the most crosswalks by far, coming in at 396 total crosswalks.  As to our final conclusion for best neighborhood, Squirrel Hill South appears in the top 3.  This will become more pertinent during the analysis of our overall best neighborhood below.  As the Central Business District and the South Side flats do not appear favorably in other datasets while appearing favorably in this one, their placement in this dataset is ultimately irrelevant for our overall conclusion."
   ]
  },
  {
   "cell_type": "markdown",
   "metadata": {},
   "source": [
    "![Ratio Map](Graphs/RatioMap.png)\n",
    "\n",
    "The Sidewalk-Street Ratio Map showed that many of the neighborhoods we chose for our top 5 had relatively high ratios, but the highest ratios on the map were completey unexpected. Unfortunately, the dataset for the map did not have data for every neighborhood, so it wasn't considered as heavily in our final ranking."
   ]
  },
  {
   "cell_type": "markdown",
   "metadata": {},
   "source": [
    "![SpeedBump Bar](Graphs/SpeedBumpBarGraph.png)\n",
    "![SpeedBump Pie](Graphs/SpeedBumpPieChart.png)"
   ]
  },
  {
   "cell_type": "markdown",
   "metadata": {},
   "source": [
    "According to the Journal of Safety Research, speed bumps can reduce the incidence of pedestrian accidents by up to 50%.  The graph on the left depicts of series of neighbhorhoods with the most crosswalks; the one on the right depicts their proportions.  Squirrel Hill South came in at number one for most crosswalks at 18, while Carrick, Polish Hill, and North Oakland come next, at 18, 9, 6, and 6 speed bumps respectively."
   ]
  },
  {
   "cell_type": "markdown",
   "metadata": {},
   "source": [
    "##### Overall Conclusion and Best Neighborhood"
   ]
  },
  {
   "cell_type": "markdown",
   "metadata": {},
   "source": [
    "Overall, due to Squirrel Hill South ranking highly in many of our datasets, including number of crosswalks and number of speed bumps, we chose it as our number one overall best neighborhood.  No other neighborhood appears as frequently in the top 5.  Due to this, we agreed that it was the best choice."
   ]
  },
  {
   "cell_type": "markdown",
   "metadata": {},
   "source": [
    "### Individual Conclusions"
   ]
  },
  {
   "cell_type": "markdown",
   "metadata": {},
   "source": [
    "Michael Wolfe MEW194: According to a analysis of our data, Squirrel Hill South is the best walkable neighborhood.  My favorite neighborhood, South Side Flats, did not even appear in the top 5.  I would say that that this does not sway my opinion, and I would also say that, based on my crosswalk submetric, where it appears second, South Side Flats is a still a very walkable neighborhood.  I will have to walk around Squirrel Hill South to get a better comparison; this is definitely giving me incentive to do so."
   ]
  },
  {
   "cell_type": "markdown",
   "metadata": {},
   "source": [
    "Jacob Twerdok JAT254: Allegheny Arrest Records Dataset and Submetrics\n",
    "Conclusion- I used two submetrics from my dataset to determine the safest pedestrian neighborhoods in Pittsburgh. First I determined the pedestrian related arrests in each neighborhood. Second, I found the median arrest age in each neighborhood. Taking into account pedestrian related arrests/accidents per neighborhood since 2016, and median age of those arrested, the neighborhoods below are the safest for pedestrians:\n",
    "1.Central Northside\n",
    "2.Squirrel Hill North\n",
    "3.Upper Lawrenceville\n",
    "4.Regent Square\n",
    "5.New Homestead\n",
    "\n"
   ]
  },
  {
   "cell_type": "markdown",
   "metadata": {},
   "source": [
    "Matt Michaux MRM272: I concluded from my dataset, The Number of Speed Humps in Pittsburgh, that the three neighborhoods with the most speed humps are Squirrel Hill South, Carrick, and Polish Hill. There were 3 communities, Overbrook, Stanton Heights, and Central Oakland tied for the lowest number of speed humps in any Pittsburgh neighborhood. These neighborhoods only had one speed hump. Squirrel Hill was the only neighborhood in my top three that appeared in our final top 5 safest neighborhoods to walk in. "
   ]
  },
  {
   "cell_type": "markdown",
   "metadata": {},
   "source": [
    "Jason Mertz JAM789: From my Sidewalk-Street Ratio data, I concluded that Bedford Dwellings, Terrace Village, and North Oakland were my top 3 best neighborhoods. I personally am not familiar with most of the neighborhoods in Pittsburgh and I have not heard of most of the ones that appeared in my top few spots. South Oakland and Squirrel Hill did not appear near the top of my list but they still had ratios larger than 1, so they aren't terrible by any means. There was a surprising lack of data for many of the neighborhoods in Pittsburgh, so my dataset did not have much of an influence on the final ranking of the neighborhoods."
   ]
  },
  {
   "cell_type": "markdown",
   "metadata": {},
   "source": [
    "Final Neighborhood Ranking:\n",
    "1. Squirrel Hill South\n",
    "2. Central Northside\n",
    "3. Squirrel Hill North \n",
    "4. North Oakland\n",
    "5. Strip District"
   ]
  }
 ],
 "metadata": {
  "kernelspec": {
   "display_name": "Python 3",
   "language": "python",
   "name": "python3"
  },
  "language_info": {
   "codemirror_mode": {
    "name": "ipython",
    "version": 3
   },
   "file_extension": ".py",
   "mimetype": "text/x-python",
   "name": "python",
   "nbconvert_exporter": "python",
   "pygments_lexer": "ipython3",
   "version": "3.8.3"
  }
 },
 "nbformat": 4,
 "nbformat_minor": 4
}
