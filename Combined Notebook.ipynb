{
 "cells": [
  {
   "cell_type": "markdown",
   "metadata": {},
   "source": [
    "# Combined Notebook"
   ]
  },
  {
   "cell_type": "markdown",
   "metadata": {},
   "source": [
    "### Introduction"
   ]
  },
  {
   "cell_type": "markdown",
   "metadata": {},
   "source": [
    "Everyone loves a good stroll, including the members of the Walking Group.  Therefore, our group decided to equate \"bestness\" to \"walkability\" and explore datasets that capture the walkability of neighborhoods around Pittsburgh. Based on our experience walking around Pittsburgh, we agreed that not all neighborhoods are created equal when it comes to their walkability, and that this would probably be reflected in the datasets we chose to explore, making it a worthwhile and interesting lens through which to view our city."
   ]
  },
  {
   "cell_type": "markdown",
   "metadata": {},
   "source": [
    "### The Metric"
   ]
  },
  {
   "cell_type": "markdown",
   "metadata": {},
   "source": [
    "Upon exploration of WPRDC, we found that there were several valid datasets through which to explore the walkability of Pittburgh's neighborhoods.  We considered several valid submetrics while forming our approach to determining the best/most walkable neighborhood in the city: walking safety, number of speed bumps in a neighborhood, the walk score of a neighborhood, and crosswalk availability per neighborhood."
   ]
  },
  {
   "cell_type": "markdown",
   "metadata": {},
   "source": [
    "### The Best Neighborhood"
   ]
  },
  {
   "cell_type": "markdown",
   "metadata": {},
   "source": [
    "### Individual Conclusions"
   ]
  },
  {
   "cell_type": "markdown",
   "metadata": {},
   "source": [
    "Michael Wolfe MEW194: According to a analysis of our data, Squirrel Hill South is the best walkable neighborhood.  My favorite neighborhood, South Side Flats, did not even appear in the top 5.  I would say that that this does not sway my opinion, and I would also say that, based on my crosswalk submetric, where it appears second, South Side Flats is a still a very walkable neighborhood.  I will have to walk around Squirrel Hill South to get a better comparison; this is definitely giving me incentive to do so."
   ]
  },
  {
   "cell_type": "markdown",
   "metadata": {},
   "source": [
    "Jacob Twerdok JAT254: Allegheny Arrest Records Dataset and Submetrics\n",
    "Conclusion- I used two submetrics from my dataset to determine the safest pedestrian neighborhoods in Pittsburgh. First I determined the pedestrian related arrests in each neighborhood. Second, I found the median arrest age in each neighborhood. Taking into account pedestrian related arrests/accidents per neighborhood since 2016, and median age of those arrested, the neighborhoods below are the safest for pedestrians:\n",
    "1.Central Northside\n",
    "2.Squirrel Hill North\n",
    "3.Upper Lawrenceville\n",
    "4.Regent Square\n",
    "5.New Homestead\n",
    "\n"
   ]
  },
  {
   "cell_type": "markdown",
   "metadata": {},
   "source": [
    "Matt Michaux MRM272: I concluded from my dataset, The Number of Speed Humps in Pittsburgh, that the three neighborhoods with the most speed humps are Squirrel Hill South, Carrick, and Polish Hill. There were 3 communities, Overbrook, Stanton Heights, and Central Oakland tied for the lowest number of speed humps in any Pittsburgh neighborhood. These neighborhoods only had one speed hump. Squirrel Hill was the only neighborhood in my top three that appeared in our final top 5 safest neighborhoods to walk in. "
   ]
  },
  {
   "cell_type": "markdown",
   "metadata": {},
   "source": [
    "Final Neighborhood Ranking:\n",
    "1. Squirrel Hill South\n",
    "2. Central Northside\n",
    "3. Squirrel Hill North \n",
    "4. North Oakland\n",
    "5. Strip District"
   ]
  }
 ],
 "metadata": {
  "kernelspec": {
   "display_name": "Python 3",
   "language": "python",
   "name": "python3"
  },
  "language_info": {
   "codemirror_mode": {
    "name": "ipython",
    "version": 3
   },
   "file_extension": ".py",
   "mimetype": "text/x-python",
   "name": "python",
   "nbconvert_exporter": "python",
   "pygments_lexer": "ipython3",
   "version": "3.8.3"
  }
 },
 "nbformat": 4,
 "nbformat_minor": 4
}
