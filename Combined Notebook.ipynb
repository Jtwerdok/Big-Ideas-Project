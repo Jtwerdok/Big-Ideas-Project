{
 "cells": [
  {
   "cell_type": "markdown",
   "metadata": {},
   "source": [
    "# Combined Notebook"
   ]
  },
  {
   "cell_type": "markdown",
   "metadata": {},
   "source": [
    "### Individual Conclusions"
   ]
  },
  {
   "cell_type": "markdown",
   "metadata": {},
   "source": [
    "#### Michael Wolfe MEW194: Conclusion"
   ]
  },
  {
   "cell_type": "markdown",
   "metadata": {},
   "source": [
    "According to a analysis of our data, Squirrel Hill South is the best walkable neighborhood.  My favorite neighborhood, South Side, did not even appear in the top 5.  I would say that that this does not sway my opinion."
   ]
  },
  {
   "cell_type": "markdown",
   "metadata": {},
   "source": [
    "Jacob Twerdok JAT254: Allegheny Arrest Records Dataset and Submetrics\n",
    "Conclusion- I used two submetrics from my dataset to determine the safest pedestrian neighborhoods in Pittsburgh. First I determined the pedestrian related arrests in each neighborhood. Second, I found the median arrest age in each neighborhood. Taking into account pedestrian related arrests/accidents per neighborhood since 2016, and median age of those arrested, the neighborhoods below are the safest for pedestrians:\n",
    "1.Central Northside\n",
    "2.Squirrel Hill North\n",
    "3.Upper Lawrenceville\n",
    "4.Regent Square\n",
    "5.New Homestead\n",
    "\n"
   ]
  },
  {
   "cell_type": "markdown",
   "metadata": {},
   "source": [
    "Final Neighborhood Ranking:\n",
    "1. Squirrel Hill South\n",
    "2. Central Northside\n",
    "3. Squirrel Hill North \n",
    "4. North Oakland\n",
    "5. Strip District"
   ]
  },
  {
   "cell_type": "code",
   "execution_count": null,
   "metadata": {},
   "outputs": [],
   "source": []
  }
 ],
 "metadata": {
  "kernelspec": {
   "display_name": "Python 3",
   "language": "python",
   "name": "python3"
  },
  "language_info": {
   "codemirror_mode": {
    "name": "ipython",
    "version": 3
   },
   "file_extension": ".py",
   "mimetype": "text/x-python",
   "name": "python",
   "nbconvert_exporter": "python",
   "pygments_lexer": "ipython3",
   "version": "3.8.3"
  }
 },
 "nbformat": 4,
 "nbformat_minor": 4
}
